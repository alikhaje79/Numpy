{
 "cells": [
  {
   "cell_type": "markdown",
   "id": "21bf08b9",
   "metadata": {},
   "source": [
    "# import numpy"
   ]
  },
  {
   "cell_type": "code",
   "execution_count": 1,
   "id": "5987dbdf",
   "metadata": {},
   "outputs": [],
   "source": [
    "import numpy as np"
   ]
  },
  {
   "cell_type": "markdown",
   "id": "7d04a3af",
   "metadata": {},
   "source": [
    "### slice"
   ]
  },
  {
   "cell_type": "code",
   "execution_count": 2,
   "id": "6f9c93d7",
   "metadata": {},
   "outputs": [],
   "source": [
    "array1 = np.array([[1,2,3],[4,5,6],[7,8,9]])"
   ]
  },
  {
   "cell_type": "markdown",
   "id": "13be0f8e",
   "metadata": {},
   "source": [
    "#### Column extraction"
   ]
  },
  {
   "cell_type": "code",
   "execution_count": 3,
   "id": "05c898db",
   "metadata": {},
   "outputs": [
    {
     "name": "stdout",
     "output_type": "stream",
     "text": [
      "[[1 2 3]\n",
      " [4 5 6]\n",
      " [7 8 9]]\n",
      "************\n",
      "[2 5 8]\n"
     ]
    }
   ],
   "source": [
    "print(array1.reshape(3,3))\n",
    "print('************')\n",
    "print(array1[...,1])"
   ]
  },
  {
   "cell_type": "code",
   "execution_count": 4,
   "id": "ac8bfc3d",
   "metadata": {},
   "outputs": [
    {
     "name": "stdout",
     "output_type": "stream",
     "text": [
      "[[1 2 3]\n",
      " [4 5 6]\n",
      " [7 8 9]]\n",
      "************\n",
      "[3 6 9]\n"
     ]
    }
   ],
   "source": [
    "print(array1.reshape(3,3))\n",
    "print('************')\n",
    "print(array1[...,2])"
   ]
  },
  {
   "cell_type": "markdown",
   "id": "1d0d1534",
   "metadata": {},
   "source": [
    "#### Row extraction"
   ]
  },
  {
   "cell_type": "code",
   "execution_count": 5,
   "id": "c3d1870d",
   "metadata": {},
   "outputs": [
    {
     "name": "stdout",
     "output_type": "stream",
     "text": [
      "[[1 2 3]\n",
      " [4 5 6]\n",
      " [7 8 9]]\n",
      "************\n",
      "[4 5 6]\n"
     ]
    }
   ],
   "source": [
    "print(array1.reshape(3,3))\n",
    "print('************')\n",
    "print(array1[1,...])"
   ]
  },
  {
   "cell_type": "code",
   "execution_count": 6,
   "id": "44bc032b",
   "metadata": {},
   "outputs": [
    {
     "name": "stdout",
     "output_type": "stream",
     "text": [
      "[[1 2 3]\n",
      " [4 5 6]\n",
      " [7 8 9]]\n",
      "************\n",
      "[7 8 9]\n"
     ]
    }
   ],
   "source": [
    "print(array1.reshape(3,3))\n",
    "print('************')\n",
    "print(array1[2,...])"
   ]
  }
 ],
 "metadata": {
  "kernelspec": {
   "display_name": "Python 3 (ipykernel)",
   "language": "python",
   "name": "python3"
  },
  "language_info": {
   "codemirror_mode": {
    "name": "ipython",
    "version": 3
   },
   "file_extension": ".py",
   "mimetype": "text/x-python",
   "name": "python",
   "nbconvert_exporter": "python",
   "pygments_lexer": "ipython3",
   "version": "3.10.4"
  }
 },
 "nbformat": 4,
 "nbformat_minor": 5
}
