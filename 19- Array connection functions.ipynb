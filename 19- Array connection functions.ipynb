{
 "cells": [
  {
   "cell_type": "markdown",
   "id": "910d5605",
   "metadata": {},
   "source": [
    "# import numpy"
   ]
  },
  {
   "cell_type": "code",
   "execution_count": 1,
   "id": "69564103",
   "metadata": {},
   "outputs": [],
   "source": [
    "import numpy as np"
   ]
  },
  {
   "cell_type": "code",
   "execution_count": 2,
   "id": "16b9cde3",
   "metadata": {},
   "outputs": [],
   "source": [
    "array1 = np.array([[1,2],\n",
    "                   [3,4]])\n",
    "\n",
    "array2 = np.array([[5,6],\n",
    "                   [7,8]])\n",
    "\n",
    "array3 = [5,6]"
   ]
  },
  {
   "cell_type": "markdown",
   "id": "2738ee30",
   "metadata": {},
   "source": [
    "#### vertical stacking"
   ]
  },
  {
   "cell_type": "code",
   "execution_count": 3,
   "id": "945ae5f2",
   "metadata": {},
   "outputs": [
    {
     "name": "stdout",
     "output_type": "stream",
     "text": [
      "vertical stacking:\n",
      " [[1 2]\n",
      " [3 4]\n",
      " [5 6]\n",
      " [7 8]]\n"
     ]
    }
   ],
   "source": [
    "print('vertical stacking:\\n', np.vstack((array1,array2)))"
   ]
  },
  {
   "cell_type": "markdown",
   "id": "2ec086b6",
   "metadata": {},
   "source": [
    "#### horizontal stacking"
   ]
  },
  {
   "cell_type": "code",
   "execution_count": 4,
   "id": "99d96fed",
   "metadata": {},
   "outputs": [
    {
     "name": "stdout",
     "output_type": "stream",
     "text": [
      "horizontal stacking:\n",
      " [[1 2 5 6]\n",
      " [3 4 7 8]]\n"
     ]
    }
   ],
   "source": [
    "print('horizontal stacking:\\n' , np.hstack((array1,array2)))"
   ]
  },
  {
   "cell_type": "markdown",
   "id": "83fe386b",
   "metadata": {},
   "source": [
    "#### column stacking"
   ]
  },
  {
   "cell_type": "code",
   "execution_count": 5,
   "id": "079ebdc4",
   "metadata": {},
   "outputs": [
    {
     "name": "stdout",
     "output_type": "stream",
     "text": [
      "column stacking:\n",
      " [[1 2 5]\n",
      " [3 4 6]]\n"
     ]
    }
   ],
   "source": [
    "print('column stacking:\\n' , np.column_stack((array1,array3)))"
   ]
  },
  {
   "cell_type": "markdown",
   "id": "3e7b5100",
   "metadata": {},
   "source": [
    "#### concatenating"
   ]
  },
  {
   "cell_type": "code",
   "execution_count": 6,
   "id": "97aaa857",
   "metadata": {},
   "outputs": [
    {
     "name": "stdout",
     "output_type": "stream",
     "text": [
      "concatenating to 2nd axis:\n",
      " [[1 2 5 6]\n",
      " [3 4 7 8]]\n"
     ]
    }
   ],
   "source": [
    "print('concatenating to 2nd axis:\\n' , np.concatenate((array1,array2),1))"
   ]
  }
 ],
 "metadata": {
  "kernelspec": {
   "display_name": "Python 3 (ipykernel)",
   "language": "python",
   "name": "python3"
  },
  "language_info": {
   "codemirror_mode": {
    "name": "ipython",
    "version": 3
   },
   "file_extension": ".py",
   "mimetype": "text/x-python",
   "name": "python",
   "nbconvert_exporter": "python",
   "pygments_lexer": "ipython3",
   "version": "3.10.4"
  }
 },
 "nbformat": 4,
 "nbformat_minor": 5
}
