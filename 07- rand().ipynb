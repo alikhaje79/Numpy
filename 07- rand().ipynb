{
 "cells": [
  {
   "cell_type": "markdown",
   "id": "47b9dc61",
   "metadata": {},
   "source": [
    "# import numpy"
   ]
  },
  {
   "cell_type": "code",
   "execution_count": 1,
   "id": "4e8b778b",
   "metadata": {},
   "outputs": [],
   "source": [
    "import numpy as np"
   ]
  },
  {
   "cell_type": "markdown",
   "id": "fdc295b4",
   "metadata": {},
   "source": [
    "### rand()"
   ]
  },
  {
   "cell_type": "markdown",
   "id": "e5d67ecd",
   "metadata": {},
   "source": [
    "##### np.random.rand(row , column)"
   ]
  },
  {
   "cell_type": "code",
   "execution_count": 2,
   "id": "826a3d6e",
   "metadata": {},
   "outputs": [
    {
     "name": "stdout",
     "output_type": "stream",
     "text": [
      "[[0.81043224 0.39845187 0.89162507]\n",
      " [0.27035815 0.30224363 0.14476758]\n",
      " [0.34327837 0.24597189 0.8085894 ]]\n"
     ]
    }
   ],
   "source": [
    "array1 = np.random.rand(3,3)\n",
    "print(array1)"
   ]
  },
  {
   "cell_type": "code",
   "execution_count": 3,
   "id": "bfa259dd",
   "metadata": {},
   "outputs": [
    {
     "name": "stdout",
     "output_type": "stream",
     "text": [
      "[[0.92876327 0.97543907 0.91399415 0.53688581]\n",
      " [0.26974706 0.08733163 0.99008041 0.00179723]\n",
      " [0.92691238 0.66639223 0.23064602 0.47000866]]\n"
     ]
    }
   ],
   "source": [
    "array2 = np.random.rand(3,4)\n",
    "print(array2)"
   ]
  },
  {
   "cell_type": "code",
   "execution_count": 4,
   "id": "58246ad0",
   "metadata": {},
   "outputs": [
    {
     "name": "stdout",
     "output_type": "stream",
     "text": [
      "[0.22970511 0.57330153]\n"
     ]
    }
   ],
   "source": [
    "array3 = np.random.rand(2)\n",
    "print(array3)"
   ]
  },
  {
   "cell_type": "markdown",
   "id": "4ae99700",
   "metadata": {},
   "source": [
    "##### Replace columns and rows in array with T"
   ]
  },
  {
   "cell_type": "code",
   "execution_count": 5,
   "id": "3632fde8",
   "metadata": {},
   "outputs": [
    {
     "name": "stdout",
     "output_type": "stream",
     "text": [
      "befor:\n",
      " [[ 2  4  6]\n",
      " [ 8 10 12]]\n",
      "***********\n",
      "after:\n",
      " [[ 2  8]\n",
      " [ 4 10]\n",
      " [ 6 12]]\n"
     ]
    }
   ],
   "source": [
    "array4 = np.array([[2,4,6],[8,10,12]])\n",
    "print(f'befor:\\n {array4}')\n",
    "print('***********')\n",
    "print(f'after:\\n {array4.T}')"
   ]
  }
 ],
 "metadata": {
  "kernelspec": {
   "display_name": "Python 3 (ipykernel)",
   "language": "python",
   "name": "python3"
  },
  "language_info": {
   "codemirror_mode": {
    "name": "ipython",
    "version": 3
   },
   "file_extension": ".py",
   "mimetype": "text/x-python",
   "name": "python",
   "nbconvert_exporter": "python",
   "pygments_lexer": "ipython3",
   "version": "3.10.4"
  }
 },
 "nbformat": 4,
 "nbformat_minor": 5
}
