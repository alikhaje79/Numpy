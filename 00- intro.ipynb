{
 "cells": [
  {
   "cell_type": "markdown",
   "id": "5b9b9c91",
   "metadata": {},
   "source": [
    "# install numpy with pip in cmd"
   ]
  },
  {
   "cell_type": "markdown",
   "id": "e225ffca",
   "metadata": {},
   "source": [
    "<h3 style=\"color:red;\"> windows</h3>"
   ]
  },
  {
   "cell_type": "raw",
   "id": "690344da",
   "metadata": {},
   "source": [
    "python -m pip install --upgrade numpy\n",
    "python -m pip install --upgrade --user numpy"
   ]
  },
  {
   "cell_type": "markdown",
   "id": "51e4a781",
   "metadata": {},
   "source": [
    "<h3 style=\"color:red;\"> mac </h3>"
   ]
  },
  {
   "cell_type": "raw",
   "id": "b6f8d63c",
   "metadata": {},
   "source": [
    "python3 -m pip install --upgrade numpy\n",
    "python3 -m pip install --upgrade --user numpy"
   ]
  },
  {
   "cell_type": "markdown",
   "id": "fa6f1d39",
   "metadata": {},
   "source": [
    "<h3 style=\"color:red;\"> linux</h3>"
   ]
  },
  {
   "cell_type": "raw",
   "id": "6ebb5bcf",
   "metadata": {},
   "source": [
    "python3 -m pip install --upgrade numpy\n",
    "python3 -m pip install --upgrade --user numpy"
   ]
  }
 ],
 "metadata": {
  "kernelspec": {
   "display_name": "Python 3 (ipykernel)",
   "language": "python",
   "name": "python3"
  },
  "language_info": {
   "codemirror_mode": {
    "name": "ipython",
    "version": 3
   },
   "file_extension": ".py",
   "mimetype": "text/x-python",
   "name": "python",
   "nbconvert_exporter": "python",
   "pygments_lexer": "ipython3",
   "version": "3.10.4"
  }
 },
 "nbformat": 4,
 "nbformat_minor": 5
}
