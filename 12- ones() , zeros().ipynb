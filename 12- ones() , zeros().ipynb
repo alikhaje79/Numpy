{
 "cells": [
  {
   "cell_type": "markdown",
   "id": "f09fed05",
   "metadata": {},
   "source": [
    "# import numpy"
   ]
  },
  {
   "cell_type": "code",
   "execution_count": 1,
   "id": "838fe110",
   "metadata": {},
   "outputs": [],
   "source": [
    "import numpy as np"
   ]
  },
  {
   "cell_type": "markdown",
   "id": "359a69cb",
   "metadata": {},
   "source": [
    "#### ones()"
   ]
  },
  {
   "cell_type": "markdown",
   "id": "c4f6d444",
   "metadata": {},
   "source": [
    "##### np.ones((row,column))"
   ]
  },
  {
   "cell_type": "code",
   "execution_count": 2,
   "id": "f509fc98",
   "metadata": {},
   "outputs": [
    {
     "name": "stdout",
     "output_type": "stream",
     "text": [
      "[[1 1 1 1]\n",
      " [1 1 1 1]\n",
      " [1 1 1 1]]\n"
     ]
    }
   ],
   "source": [
    "array1 = np.ones((3,4) , dtype=int)\n",
    "print(array1)"
   ]
  },
  {
   "cell_type": "markdown",
   "id": "b38a4bb5",
   "metadata": {},
   "source": [
    "#### zeros()"
   ]
  },
  {
   "cell_type": "markdown",
   "id": "3e97a3b5",
   "metadata": {},
   "source": [
    "##### np.zeros((row,column))"
   ]
  },
  {
   "cell_type": "code",
   "execution_count": 3,
   "id": "fb291a66",
   "metadata": {},
   "outputs": [
    {
     "name": "stdout",
     "output_type": "stream",
     "text": [
      "[[0 0 0 0]\n",
      " [0 0 0 0]\n",
      " [0 0 0 0]]\n"
     ]
    }
   ],
   "source": [
    "array2 = np.zeros((3,4) , dtype=int)\n",
    "print(array2)"
   ]
  }
 ],
 "metadata": {
  "kernelspec": {
   "display_name": "Python 3 (ipykernel)",
   "language": "python",
   "name": "python3"
  },
  "language_info": {
   "codemirror_mode": {
    "name": "ipython",
    "version": 3
   },
   "file_extension": ".py",
   "mimetype": "text/x-python",
   "name": "python",
   "nbconvert_exporter": "python",
   "pygments_lexer": "ipython3",
   "version": "3.10.4"
  }
 },
 "nbformat": 4,
 "nbformat_minor": 5
}
