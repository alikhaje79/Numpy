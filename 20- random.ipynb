{
 "cells": [
  {
   "cell_type": "markdown",
   "id": "93f18afd",
   "metadata": {},
   "source": [
    "# import numpy"
   ]
  },
  {
   "cell_type": "code",
   "execution_count": 1,
   "id": "d371941f",
   "metadata": {},
   "outputs": [],
   "source": [
    "import numpy as np"
   ]
  },
  {
   "cell_type": "markdown",
   "id": "3457c1e6",
   "metadata": {},
   "source": [
    "#### rand()"
   ]
  },
  {
   "cell_type": "code",
   "execution_count": 2,
   "id": "2bf7dece",
   "metadata": {},
   "outputs": [],
   "source": [
    "array1 = np.random.rand()\n",
    "array2 = np.random.rand(2,2)"
   ]
  },
  {
   "cell_type": "code",
   "execution_count": 3,
   "id": "6f0100a9",
   "metadata": {},
   "outputs": [
    {
     "name": "stdout",
     "output_type": "stream",
     "text": [
      "0.7038230693120092\n",
      "********************\n",
      "[[0.08986675 0.54003554]\n",
      " [0.30110814 0.33304006]]\n"
     ]
    }
   ],
   "source": [
    "print(array1)\n",
    "print('*'*20)\n",
    "print(array2)"
   ]
  },
  {
   "cell_type": "markdown",
   "id": "32bf05ee",
   "metadata": {},
   "source": [
    "#### randn()"
   ]
  },
  {
   "cell_type": "code",
   "execution_count": 4,
   "id": "77763b7a",
   "metadata": {},
   "outputs": [],
   "source": [
    "N = 5\n",
    "a= 5.\n",
    "b = 2.\n",
    "var = b ** 2"
   ]
  },
  {
   "cell_type": "code",
   "execution_count": 5,
   "id": "9d8a87d2",
   "metadata": {},
   "outputs": [],
   "source": [
    "array3 = a + var * np.random.randn(N,3)"
   ]
  },
  {
   "cell_type": "code",
   "execution_count": 6,
   "id": "330cb7be",
   "metadata": {},
   "outputs": [
    {
     "name": "stdout",
     "output_type": "stream",
     "text": [
      "[[ 6.025091    2.76505836  8.40192305]\n",
      " [ 4.58445298 -1.28645853 12.1705026 ]\n",
      " [14.70221619  4.82210773  2.57996176]\n",
      " [ 1.6314453  -1.8579356   8.72978301]\n",
      " [ 4.34953822  3.46188087  5.56949958]]\n"
     ]
    }
   ],
   "source": [
    "print(array3)"
   ]
  },
  {
   "cell_type": "markdown",
   "id": "61fd714b",
   "metadata": {},
   "source": [
    "#### randint()"
   ]
  },
  {
   "cell_type": "code",
   "execution_count": 7,
   "id": "07f13daa",
   "metadata": {},
   "outputs": [],
   "source": [
    "array4 = np.random.randint(low = 4 , high = 10 , size = 5)"
   ]
  },
  {
   "cell_type": "code",
   "execution_count": 8,
   "id": "a122ac30",
   "metadata": {},
   "outputs": [
    {
     "name": "stdout",
     "output_type": "stream",
     "text": [
      "[6 7 4 6 9]\n"
     ]
    }
   ],
   "source": [
    "print(array4)"
   ]
  },
  {
   "cell_type": "markdown",
   "id": "fb8a6357",
   "metadata": {},
   "source": [
    "#### shuffle()"
   ]
  },
  {
   "cell_type": "code",
   "execution_count": 9,
   "id": "0435f38f",
   "metadata": {},
   "outputs": [],
   "source": [
    "letters = ['a','b','c','d','e','f','g','h','i','j','k','l','m','n','o','p','q','r','s','t','u','v','w','x','y','z']"
   ]
  },
  {
   "cell_type": "code",
   "execution_count": 10,
   "id": "a210b973",
   "metadata": {},
   "outputs": [
    {
     "name": "stdout",
     "output_type": "stream",
     "text": [
      "['a', 'b', 'c', 'd', 'e', 'f', 'g', 'h', 'i', 'j', 'k', 'l', 'm', 'n', 'o', 'p', 'q', 'r', 's', 't', 'u', 'v', 'w', 'x', 'y', 'z']\n"
     ]
    }
   ],
   "source": [
    "print(letters)"
   ]
  },
  {
   "cell_type": "code",
   "execution_count": 11,
   "id": "135136d8",
   "metadata": {},
   "outputs": [
    {
     "name": "stdout",
     "output_type": "stream",
     "text": [
      "['d', 'p', 'n', 'v', 'a', 'k', 't', 'j', 'i', 'f', 'o', 'e', 'w', 'u', 'z', 'l', 'c', 'y', 'b', 'g', 'h', 'm', 'x', 'q', 's', 'r']\n"
     ]
    }
   ],
   "source": [
    "np.random.shuffle(letters)\n",
    "print(letters)"
   ]
  },
  {
   "cell_type": "markdown",
   "id": "7a8dd247",
   "metadata": {},
   "source": [
    "#### permutation()"
   ]
  },
  {
   "cell_type": "code",
   "execution_count": 12,
   "id": "7a9fa22d",
   "metadata": {},
   "outputs": [],
   "source": [
    "letters2 = ['a','b','c','d','e','f','g','h','i','j','k','l','m','n','o','p','q','r','s','t','u','v','w','x','y','z']"
   ]
  },
  {
   "cell_type": "code",
   "execution_count": 13,
   "id": "5b38b9ec",
   "metadata": {},
   "outputs": [
    {
     "name": "stdout",
     "output_type": "stream",
     "text": [
      "['a' 'c' 'i' 'e' 'j' 'n' 'f' 'q' 'g' 'w' 'l' 'p' 'u' 'h' 'm' 'b' 'v' 'k'\n",
      " 't' 'r' 'y' 'o' 'd' 's' 'z' 'x']\n"
     ]
    }
   ],
   "source": [
    "print(np.random.permutation(letters2))"
   ]
  },
  {
   "cell_type": "code",
   "execution_count": 14,
   "id": "ddd4b5d3",
   "metadata": {},
   "outputs": [
    {
     "name": "stdout",
     "output_type": "stream",
     "text": [
      "[2 5 6 0 7 3 8 9 1 4]\n"
     ]
    }
   ],
   "source": [
    "print(np.random.permutation(10))"
   ]
  },
  {
   "cell_type": "markdown",
   "id": "8f5f2e57",
   "metadata": {},
   "source": [
    "#### choice()"
   ]
  },
  {
   "cell_type": "code",
   "execution_count": 15,
   "id": "9c744a20",
   "metadata": {},
   "outputs": [],
   "source": [
    "letters3 = ['a','b','c','d']"
   ]
  },
  {
   "cell_type": "code",
   "execution_count": 16,
   "id": "5121f016",
   "metadata": {},
   "outputs": [
    {
     "name": "stdout",
     "output_type": "stream",
     "text": [
      "c\n",
      "a\n",
      "c\n",
      "c\n",
      "d\n"
     ]
    }
   ],
   "source": [
    "for _ in range(5):\n",
    "    selection = np.random.choice(letters3)\n",
    "    print(selection)"
   ]
  },
  {
   "cell_type": "markdown",
   "id": "14fc489b",
   "metadata": {},
   "source": [
    "#### sample()"
   ]
  },
  {
   "cell_type": "code",
   "execution_count": 17,
   "id": "55bc81fd",
   "metadata": {},
   "outputs": [],
   "source": [
    "from random import sample"
   ]
  },
  {
   "cell_type": "code",
   "execution_count": 18,
   "id": "115a53ce",
   "metadata": {},
   "outputs": [],
   "source": [
    "letters4 = ['a','b','c','d']"
   ]
  },
  {
   "cell_type": "code",
   "execution_count": 19,
   "id": "b349942d",
   "metadata": {},
   "outputs": [],
   "source": [
    "subset = sample(letters4 , 3)"
   ]
  },
  {
   "cell_type": "code",
   "execution_count": 20,
   "id": "e88cf824",
   "metadata": {},
   "outputs": [
    {
     "name": "stdout",
     "output_type": "stream",
     "text": [
      "['a', 'c', 'd']\n"
     ]
    }
   ],
   "source": [
    "print(subset)"
   ]
  },
  {
   "cell_type": "code",
   "execution_count": null,
   "id": "ac20e1d8",
   "metadata": {},
   "outputs": [],
   "source": []
  }
 ],
 "metadata": {
  "kernelspec": {
   "display_name": "Python 3 (ipykernel)",
   "language": "python",
   "name": "python3"
  },
  "language_info": {
   "codemirror_mode": {
    "name": "ipython",
    "version": 3
   },
   "file_extension": ".py",
   "mimetype": "text/x-python",
   "name": "python",
   "nbconvert_exporter": "python",
   "pygments_lexer": "ipython3",
   "version": "3.10.4"
  }
 },
 "nbformat": 4,
 "nbformat_minor": 5
}
