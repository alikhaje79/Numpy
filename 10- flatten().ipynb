{
 "cells": [
  {
   "cell_type": "markdown",
   "id": "f06873ee",
   "metadata": {},
   "source": [
    "# import numpy"
   ]
  },
  {
   "cell_type": "code",
   "execution_count": 1,
   "id": "20d50f52",
   "metadata": {},
   "outputs": [],
   "source": [
    "import numpy as np"
   ]
  },
  {
   "cell_type": "markdown",
   "id": "a0d2126a",
   "metadata": {},
   "source": [
    "### flatten"
   ]
  },
  {
   "cell_type": "code",
   "execution_count": 2,
   "id": "1e626273",
   "metadata": {},
   "outputs": [],
   "source": [
    "array1 = np.array([[1,2,3],[4,5,6]])"
   ]
  },
  {
   "cell_type": "code",
   "execution_count": 3,
   "id": "03b2e82d",
   "metadata": {},
   "outputs": [
    {
     "name": "stdout",
     "output_type": "stream",
     "text": [
      "[[1 2 3]\n",
      " [4 5 6]]\n",
      "*********\n",
      "[1 2 3 4 5 6]\n"
     ]
    }
   ],
   "source": [
    "print(array1)\n",
    "print('*********')\n",
    "print(array1.flatten())"
   ]
  },
  {
   "cell_type": "code",
   "execution_count": 4,
   "id": "a8582e1d",
   "metadata": {},
   "outputs": [],
   "source": [
    "array2 = np.array([[[1,2,3],[4,5,6]], [[7,8,9],[10,11,12]]])"
   ]
  },
  {
   "cell_type": "code",
   "execution_count": 5,
   "id": "65496bf7",
   "metadata": {},
   "outputs": [
    {
     "name": "stdout",
     "output_type": "stream",
     "text": [
      "[ 1  2  3  4  5  6  7  8  9 10 11 12]\n"
     ]
    }
   ],
   "source": [
    "print(array2.flatten())"
   ]
  }
 ],
 "metadata": {
  "kernelspec": {
   "display_name": "Python 3 (ipykernel)",
   "language": "python",
   "name": "python3"
  },
  "language_info": {
   "codemirror_mode": {
    "name": "ipython",
    "version": 3
   },
   "file_extension": ".py",
   "mimetype": "text/x-python",
   "name": "python",
   "nbconvert_exporter": "python",
   "pygments_lexer": "ipython3",
   "version": "3.10.4"
  }
 },
 "nbformat": 4,
 "nbformat_minor": 5
}
