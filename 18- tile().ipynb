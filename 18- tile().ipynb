{
 "cells": [
  {
   "cell_type": "markdown",
   "id": "e0057e46",
   "metadata": {},
   "source": [
    "# import numpy"
   ]
  },
  {
   "cell_type": "code",
   "execution_count": 1,
   "id": "7c21f652",
   "metadata": {},
   "outputs": [],
   "source": [
    "import numpy as np"
   ]
  },
  {
   "cell_type": "markdown",
   "id": "9f6266e7",
   "metadata": {},
   "source": [
    "#### tile()"
   ]
  },
  {
   "cell_type": "code",
   "execution_count": 2,
   "id": "33e516b6",
   "metadata": {},
   "outputs": [],
   "source": [
    "array1 = np.tile(6,3)"
   ]
  },
  {
   "cell_type": "code",
   "execution_count": 3,
   "id": "bc805376",
   "metadata": {},
   "outputs": [
    {
     "name": "stdout",
     "output_type": "stream",
     "text": [
      "[6 6 6]\n"
     ]
    }
   ],
   "source": [
    "print(array1)"
   ]
  },
  {
   "cell_type": "code",
   "execution_count": 4,
   "id": "ae7f1cc6",
   "metadata": {},
   "outputs": [],
   "source": [
    "array2 = np.tile(3,6)"
   ]
  },
  {
   "cell_type": "code",
   "execution_count": 5,
   "id": "a55fc31a",
   "metadata": {},
   "outputs": [
    {
     "name": "stdout",
     "output_type": "stream",
     "text": [
      "[3 3 3 3 3 3]\n"
     ]
    }
   ],
   "source": [
    "print(array2)"
   ]
  },
  {
   "cell_type": "code",
   "execution_count": 6,
   "id": "d8e5042e",
   "metadata": {},
   "outputs": [],
   "source": [
    "array3 = np.array([[1,2,3],[4,5,6]])"
   ]
  },
  {
   "cell_type": "code",
   "execution_count": 7,
   "id": "eb3340de",
   "metadata": {},
   "outputs": [],
   "source": [
    "array4 = np.tile(array3,2)"
   ]
  },
  {
   "cell_type": "code",
   "execution_count": 8,
   "id": "2ac62eef",
   "metadata": {},
   "outputs": [
    {
     "name": "stdout",
     "output_type": "stream",
     "text": [
      "[[1 2 3]\n",
      " [4 5 6]]\n",
      "********************\n",
      "[[1 2 3 1 2 3]\n",
      " [4 5 6 4 5 6]]\n"
     ]
    }
   ],
   "source": [
    "print(array3)\n",
    "print('*'*20)\n",
    "print(array4)"
   ]
  }
 ],
 "metadata": {
  "kernelspec": {
   "display_name": "Python 3 (ipykernel)",
   "language": "python",
   "name": "python3"
  },
  "language_info": {
   "codemirror_mode": {
    "name": "ipython",
    "version": 3
   },
   "file_extension": ".py",
   "mimetype": "text/x-python",
   "name": "python",
   "nbconvert_exporter": "python",
   "pygments_lexer": "ipython3",
   "version": "3.10.4"
  }
 },
 "nbformat": 4,
 "nbformat_minor": 5
}
