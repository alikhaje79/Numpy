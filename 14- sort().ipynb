{
 "cells": [
  {
   "cell_type": "markdown",
   "id": "0224854e",
   "metadata": {},
   "source": [
    "# import numpy"
   ]
  },
  {
   "cell_type": "code",
   "execution_count": 1,
   "id": "cec34ef6",
   "metadata": {},
   "outputs": [],
   "source": [
    "import numpy as np"
   ]
  },
  {
   "cell_type": "code",
   "execution_count": 2,
   "id": "b57a3551",
   "metadata": {},
   "outputs": [],
   "source": [
    "array1 = np.array([[1,6,4],[3,5,9]])"
   ]
  },
  {
   "cell_type": "code",
   "execution_count": 3,
   "id": "829f6909",
   "metadata": {},
   "outputs": [
    {
     "name": "stdout",
     "output_type": "stream",
     "text": [
      "befor sorting:\n",
      " [[1 6 4]\n",
      " [3 5 9]]\n",
      "after sorting:\n",
      " [[1 4 6]\n",
      " [3 5 9]]\n"
     ]
    }
   ],
   "source": [
    "print(f'befor sorting:\\n {array1}')\n",
    "array1.sort()\n",
    "print(f'after sorting:\\n {array1}')"
   ]
  },
  {
   "cell_type": "code",
   "execution_count": 4,
   "id": "f5a78a6d",
   "metadata": {},
   "outputs": [],
   "source": [
    "array2 = np.random.rand(3,3)"
   ]
  },
  {
   "cell_type": "code",
   "execution_count": 5,
   "id": "5856bdf1",
   "metadata": {},
   "outputs": [
    {
     "name": "stdout",
     "output_type": "stream",
     "text": [
      "befor sorting:\n",
      " [[0.55811579 0.08058337 0.29546421]\n",
      " [0.70244064 0.53570462 0.76913877]\n",
      " [0.15857514 0.03088794 0.62861744]]\n",
      "after sorting:\n",
      " [[0.08058337 0.29546421 0.55811579]\n",
      " [0.53570462 0.70244064 0.76913877]\n",
      " [0.03088794 0.15857514 0.62861744]]\n"
     ]
    }
   ],
   "source": [
    "print(f'befor sorting:\\n {array2}')\n",
    "array2.sort()\n",
    "print(f'after sorting:\\n {array2}')"
   ]
  }
 ],
 "metadata": {
  "kernelspec": {
   "display_name": "Python 3 (ipykernel)",
   "language": "python",
   "name": "python3"
  },
  "language_info": {
   "codemirror_mode": {
    "name": "ipython",
    "version": 3
   },
   "file_extension": ".py",
   "mimetype": "text/x-python",
   "name": "python",
   "nbconvert_exporter": "python",
   "pygments_lexer": "ipython3",
   "version": "3.10.4"
  }
 },
 "nbformat": 4,
 "nbformat_minor": 5
}
