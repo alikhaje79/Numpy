{
 "cells": [
  {
   "cell_type": "markdown",
   "id": "7acfbd73",
   "metadata": {},
   "source": [
    "# impoer numpy"
   ]
  },
  {
   "cell_type": "code",
   "execution_count": 1,
   "id": "2e2fb43c",
   "metadata": {},
   "outputs": [],
   "source": [
    "import numpy as np"
   ]
  },
  {
   "cell_type": "markdown",
   "id": "995dede9",
   "metadata": {},
   "source": [
    "### size"
   ]
  },
  {
   "cell_type": "code",
   "execution_count": 2,
   "id": "293ed6a5",
   "metadata": {},
   "outputs": [],
   "source": [
    "array1 = np.array([[1,2,3],[4,5,6]])"
   ]
  },
  {
   "cell_type": "code",
   "execution_count": 3,
   "id": "67e9d622",
   "metadata": {},
   "outputs": [],
   "source": [
    "array2 = np.array([[[ 1,  2,  3],[ 4,  5,  6]],[[ 7,  8,  9],[10, 11, 12]]])"
   ]
  },
  {
   "cell_type": "code",
   "execution_count": 4,
   "id": "add5ae7f",
   "metadata": {},
   "outputs": [
    {
     "name": "stdout",
     "output_type": "stream",
     "text": [
      "6\n",
      "*********\n",
      "12\n"
     ]
    }
   ],
   "source": [
    "print(array1.size)\n",
    "print('*********')\n",
    "print(array2.size)"
   ]
  },
  {
   "cell_type": "markdown",
   "id": "e635371b",
   "metadata": {},
   "source": [
    "#### resize"
   ]
  },
  {
   "cell_type": "code",
   "execution_count": 5,
   "id": "63d9c884",
   "metadata": {},
   "outputs": [],
   "source": [
    "array3 = np.array([[1,2,3],[4,5,6]])"
   ]
  },
  {
   "cell_type": "code",
   "execution_count": 6,
   "id": "7c62eec5",
   "metadata": {},
   "outputs": [
    {
     "name": "stdout",
     "output_type": "stream",
     "text": [
      "[[1 2 3]\n",
      " [4 5 6]]\n",
      "*********\n",
      "[[1 2]\n",
      " [3 4]\n",
      " [5 6]]\n"
     ]
    }
   ],
   "source": [
    "print(array3)\n",
    "print('*********')\n",
    "array3.resize(3,2)\n",
    "print(array3)"
   ]
  },
  {
   "cell_type": "markdown",
   "id": "7f38f9b8",
   "metadata": {},
   "source": [
    "#### itemsize (In bytes)"
   ]
  },
  {
   "cell_type": "code",
   "execution_count": 7,
   "id": "282ce04c",
   "metadata": {},
   "outputs": [],
   "source": [
    "array4 = np.array([[1,2,3],[4,5,6]])"
   ]
  },
  {
   "cell_type": "code",
   "execution_count": 8,
   "id": "47fada3a",
   "metadata": {},
   "outputs": [
    {
     "name": "stdout",
     "output_type": "stream",
     "text": [
      "size in byte: 4\n"
     ]
    }
   ],
   "source": [
    "print(f'size in byte: {array4.itemsize}')"
   ]
  }
 ],
 "metadata": {
  "kernelspec": {
   "display_name": "Python 3 (ipykernel)",
   "language": "python",
   "name": "python3"
  },
  "language_info": {
   "codemirror_mode": {
    "name": "ipython",
    "version": 3
   },
   "file_extension": ".py",
   "mimetype": "text/x-python",
   "name": "python",
   "nbconvert_exporter": "python",
   "pygments_lexer": "ipython3",
   "version": "3.10.4"
  }
 },
 "nbformat": 4,
 "nbformat_minor": 5
}
