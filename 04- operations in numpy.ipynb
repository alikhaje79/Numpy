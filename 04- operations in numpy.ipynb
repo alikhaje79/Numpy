{
 "cells": [
  {
   "cell_type": "markdown",
   "id": "2d9a0fb5",
   "metadata": {},
   "source": [
    "# import numpy"
   ]
  },
  {
   "cell_type": "code",
   "execution_count": 1,
   "id": "d1d6b3ea",
   "metadata": {},
   "outputs": [],
   "source": [
    "import numpy as np"
   ]
  },
  {
   "cell_type": "markdown",
   "id": "7a0cea77",
   "metadata": {},
   "source": [
    "### operation +"
   ]
  },
  {
   "cell_type": "code",
   "execution_count": 2,
   "id": "a3d3f239",
   "metadata": {},
   "outputs": [],
   "source": [
    "array1 = np.array([[2,4,6],[8,10,12]])\n",
    "array2 = np.array([[1,3,5],[7,9,11]])"
   ]
  },
  {
   "cell_type": "code",
   "execution_count": 3,
   "id": "44e9f448",
   "metadata": {},
   "outputs": [
    {
     "name": "stdout",
     "output_type": "stream",
     "text": [
      "befor:\n",
      " [[ 2  4  6]\n",
      " [ 8 10 12]]\n",
      "***********\n",
      "ater:\n",
      " [[ 4  6  8]\n",
      " [10 12 14]]\n"
     ]
    }
   ],
   "source": [
    "print(f'befor:\\n {array1}')\n",
    "print('***********')\n",
    "print(f'ater:\\n {array1+2}')"
   ]
  },
  {
   "cell_type": "code",
   "execution_count": 4,
   "id": "7c4c80f4",
   "metadata": {},
   "outputs": [
    {
     "name": "stdout",
     "output_type": "stream",
     "text": [
      "[[ 3  7 11]\n",
      " [15 19 23]]\n"
     ]
    }
   ],
   "source": [
    "print(array1+array2)"
   ]
  },
  {
   "cell_type": "markdown",
   "id": "b628e2eb",
   "metadata": {},
   "source": [
    "### operation -"
   ]
  },
  {
   "cell_type": "code",
   "execution_count": 5,
   "id": "824b67ce",
   "metadata": {},
   "outputs": [
    {
     "name": "stdout",
     "output_type": "stream",
     "text": [
      "[[-1 -1 -1]\n",
      " [-1 -1 -1]]\n"
     ]
    }
   ],
   "source": [
    "print(array2-array1)"
   ]
  },
  {
   "cell_type": "markdown",
   "id": "0a633e4e",
   "metadata": {},
   "source": [
    "### operation *"
   ]
  },
  {
   "cell_type": "code",
   "execution_count": 6,
   "id": "0668bd81",
   "metadata": {},
   "outputs": [
    {
     "name": "stdout",
     "output_type": "stream",
     "text": [
      "[[ 6 12 18]\n",
      " [24 30 36]]\n"
     ]
    }
   ],
   "source": [
    "print(array1*3)"
   ]
  },
  {
   "cell_type": "markdown",
   "id": "65f12654",
   "metadata": {},
   "source": [
    "### operation /"
   ]
  },
  {
   "cell_type": "code",
   "execution_count": 7,
   "id": "2f3cd298",
   "metadata": {},
   "outputs": [
    {
     "name": "stdout",
     "output_type": "stream",
     "text": [
      "[[1. 2. 3.]\n",
      " [4. 5. 6.]]\n"
     ]
    }
   ],
   "source": [
    "print(array1/2)"
   ]
  },
  {
   "cell_type": "markdown",
   "id": "9bc2b816",
   "metadata": {},
   "source": [
    "### operation **"
   ]
  },
  {
   "cell_type": "code",
   "execution_count": 8,
   "id": "5109e153",
   "metadata": {},
   "outputs": [
    {
     "name": "stdout",
     "output_type": "stream",
     "text": [
      "[[   8   64  216]\n",
      " [ 512 1000 1728]]\n"
     ]
    }
   ],
   "source": [
    "print(array1**3)"
   ]
  },
  {
   "cell_type": "markdown",
   "id": "76cf2513",
   "metadata": {},
   "source": [
    "### operation //"
   ]
  },
  {
   "cell_type": "code",
   "execution_count": 9,
   "id": "d28dc146",
   "metadata": {},
   "outputs": [
    {
     "name": "stdout",
     "output_type": "stream",
     "text": [
      "[[1 2 3]\n",
      " [4 5 6]]\n"
     ]
    }
   ],
   "source": [
    "print(array1//2)"
   ]
  },
  {
   "cell_type": "markdown",
   "id": "f2856523",
   "metadata": {},
   "source": [
    "### operation (> , == , !=)"
   ]
  },
  {
   "cell_type": "code",
   "execution_count": 10,
   "id": "ece5b182",
   "metadata": {},
   "outputs": [
    {
     "name": "stdout",
     "output_type": "stream",
     "text": [
      "[[False False False]\n",
      " [ True  True  True]]\n",
      "************\n",
      "[[False False  True]\n",
      " [False False False]]\n",
      "************\n",
      "[[ True  True  True]\n",
      " [ True  True  True]]\n",
      "************\n",
      "[[ True  True  True]\n",
      " [False  True  True]]\n",
      "************\n"
     ]
    }
   ],
   "source": [
    "print(array1 > 6)\n",
    "print('************')\n",
    "print(array1==6)\n",
    "print('************')\n",
    "print(array1>array2)\n",
    "print('************')\n",
    "print(array1 != 8)\n",
    "print('************')"
   ]
  }
 ],
 "metadata": {
  "kernelspec": {
   "display_name": "Python 3 (ipykernel)",
   "language": "python",
   "name": "python3"
  },
  "language_info": {
   "codemirror_mode": {
    "name": "ipython",
    "version": 3
   },
   "file_extension": ".py",
   "mimetype": "text/x-python",
   "name": "python",
   "nbconvert_exporter": "python",
   "pygments_lexer": "ipython3",
   "version": "3.10.4"
  }
 },
 "nbformat": 4,
 "nbformat_minor": 5
}
