{
 "cells": [
  {
   "cell_type": "markdown",
   "id": "fc3eee44",
   "metadata": {},
   "source": [
    "# import numpy"
   ]
  },
  {
   "cell_type": "code",
   "execution_count": 1,
   "id": "849ec66a",
   "metadata": {},
   "outputs": [],
   "source": [
    "import numpy as np"
   ]
  },
  {
   "cell_type": "code",
   "execution_count": 2,
   "id": "9c750535",
   "metadata": {},
   "outputs": [],
   "source": [
    "array1 = np.array([[2,4,6],[8,10,12]])"
   ]
  },
  {
   "cell_type": "markdown",
   "id": "f596b2c7",
   "metadata": {},
   "source": [
    "#### sqrt()"
   ]
  },
  {
   "cell_type": "code",
   "execution_count": 3,
   "id": "1da132a0",
   "metadata": {},
   "outputs": [
    {
     "name": "stdout",
     "output_type": "stream",
     "text": [
      "[[1.41421356 2.         2.44948974]\n",
      " [2.82842712 3.16227766 3.46410162]]\n"
     ]
    }
   ],
   "source": [
    "print(np.sqrt(array1))"
   ]
  }
 ],
 "metadata": {
  "kernelspec": {
   "display_name": "Python 3 (ipykernel)",
   "language": "python",
   "name": "python3"
  },
  "language_info": {
   "codemirror_mode": {
    "name": "ipython",
    "version": 3
   },
   "file_extension": ".py",
   "mimetype": "text/x-python",
   "name": "python",
   "nbconvert_exporter": "python",
   "pygments_lexer": "ipython3",
   "version": "3.10.4"
  }
 },
 "nbformat": 4,
 "nbformat_minor": 5
}
