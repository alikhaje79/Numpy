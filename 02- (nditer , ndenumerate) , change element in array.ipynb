{
 "cells": [
  {
   "cell_type": "markdown",
   "id": "a577e6f4",
   "metadata": {},
   "source": [
    "# import numpy"
   ]
  },
  {
   "cell_type": "code",
   "execution_count": 1,
   "id": "9cbfa9ee",
   "metadata": {},
   "outputs": [],
   "source": [
    "import numpy as np"
   ]
  },
  {
   "cell_type": "markdown",
   "id": "2c53eecc",
   "metadata": {},
   "source": [
    "## Function"
   ]
  },
  {
   "cell_type": "markdown",
   "id": "6cc83882",
   "metadata": {},
   "source": [
    "### nditer()"
   ]
  },
  {
   "cell_type": "code",
   "execution_count": 2,
   "id": "969017e4",
   "metadata": {},
   "outputs": [],
   "source": [
    "array_3D = np.array([[[ 1,  2,  3],[ 4,  5,  6]],[[ 7,  8,  9],[10, 11, 12]]])"
   ]
  },
  {
   "cell_type": "code",
   "execution_count": 3,
   "id": "aef798a6",
   "metadata": {},
   "outputs": [
    {
     "name": "stdout",
     "output_type": "stream",
     "text": [
      "1\n",
      "2\n",
      "3\n",
      "4\n",
      "5\n",
      "6\n",
      "7\n",
      "8\n",
      "9\n",
      "10\n",
      "11\n",
      "12\n"
     ]
    }
   ],
   "source": [
    "for i in np.nditer(array_3D):\n",
    "    print(i)"
   ]
  },
  {
   "cell_type": "markdown",
   "id": "053821c9",
   "metadata": {},
   "source": [
    "#### op_dtypes"
   ]
  },
  {
   "cell_type": "code",
   "execution_count": 4,
   "id": "67576a0c",
   "metadata": {},
   "outputs": [],
   "source": [
    "array1 = np.array([1,2,3])"
   ]
  },
  {
   "cell_type": "code",
   "execution_count": 5,
   "id": "970ee3ca",
   "metadata": {},
   "outputs": [
    {
     "name": "stdout",
     "output_type": "stream",
     "text": [
      "b'1'\n",
      "b'2'\n",
      "b'3'\n"
     ]
    }
   ],
   "source": [
    "for i in np.nditer(array1, flags=['buffered'] , op_dtypes=['S']):\n",
    "    print(i)"
   ]
  },
  {
   "cell_type": "markdown",
   "id": "9d9d0056",
   "metadata": {},
   "source": [
    "#### navigation array with slice"
   ]
  },
  {
   "cell_type": "code",
   "execution_count": 6,
   "id": "a3d164a7",
   "metadata": {},
   "outputs": [],
   "source": [
    "array2 = np.array([[1,2,3,4],[5,6,7,8]])"
   ]
  },
  {
   "cell_type": "code",
   "execution_count": 7,
   "id": "24327ad6",
   "metadata": {},
   "outputs": [
    {
     "name": "stdout",
     "output_type": "stream",
     "text": [
      "1\n",
      "3\n",
      "5\n",
      "7\n"
     ]
    }
   ],
   "source": [
    "for i in np.nditer(array2[:,::2]):\n",
    "    print(i)"
   ]
  },
  {
   "cell_type": "markdown",
   "id": "1fa160b0",
   "metadata": {},
   "source": [
    "#### ndenumerate()"
   ]
  },
  {
   "cell_type": "markdown",
   "id": "3720a285",
   "metadata": {},
   "source": [
    "##### navigation array with index"
   ]
  },
  {
   "cell_type": "code",
   "execution_count": 8,
   "id": "94d75198",
   "metadata": {},
   "outputs": [],
   "source": [
    "array3 = np.array([[1,2,3,4],[5,6,7,8]])"
   ]
  },
  {
   "cell_type": "code",
   "execution_count": 9,
   "id": "62684c4d",
   "metadata": {},
   "outputs": [
    {
     "name": "stdout",
     "output_type": "stream",
     "text": [
      "(0, 0) 1\n",
      "(0, 1) 2\n",
      "(0, 2) 3\n",
      "(0, 3) 4\n",
      "(1, 0) 5\n",
      "(1, 1) 6\n",
      "(1, 2) 7\n",
      "(1, 3) 8\n"
     ]
    }
   ],
   "source": [
    "for idx, j in np.ndenumerate(array3):\n",
    "    print(idx,j)"
   ]
  },
  {
   "cell_type": "markdown",
   "id": "69c81e4e",
   "metadata": {},
   "source": [
    "#### change elements in array"
   ]
  },
  {
   "cell_type": "code",
   "execution_count": 10,
   "id": "08ad81e1",
   "metadata": {
    "scrolled": true
   },
   "outputs": [
    {
     "name": "stdout",
     "output_type": "stream",
     "text": [
      "[2 6 8]\n"
     ]
    }
   ],
   "source": [
    "array_1D = np.array([2,6,8])\n",
    "print(array_1D)"
   ]
  },
  {
   "cell_type": "code",
   "execution_count": 11,
   "id": "ebebc835",
   "metadata": {},
   "outputs": [
    {
     "name": "stdout",
     "output_type": "stream",
     "text": [
      "[ 2  9 10]\n"
     ]
    }
   ],
   "source": [
    "array_1D[[1,2]] = 9,10\n",
    "print(array_1D)"
   ]
  },
  {
   "cell_type": "code",
   "execution_count": 12,
   "id": "0cc7e361",
   "metadata": {},
   "outputs": [
    {
     "name": "stdout",
     "output_type": "stream",
     "text": [
      "[[1 2 3]\n",
      " [4 5 6]]\n"
     ]
    }
   ],
   "source": [
    "array_2D = np.array([[1,2,3],[4,5,6]])\n",
    "print(array_2D)"
   ]
  },
  {
   "cell_type": "code",
   "execution_count": 13,
   "id": "2a3fb70d",
   "metadata": {},
   "outputs": [
    {
     "name": "stdout",
     "output_type": "stream",
     "text": [
      "[[1 2 3]\n",
      " [4 6 6]]\n"
     ]
    }
   ],
   "source": [
    "array_2D[1][1] = 6\n",
    "print(array_2D)"
   ]
  }
 ],
 "metadata": {
  "kernelspec": {
   "display_name": "Python 3 (ipykernel)",
   "language": "python",
   "name": "python3"
  },
  "language_info": {
   "codemirror_mode": {
    "name": "ipython",
    "version": 3
   },
   "file_extension": ".py",
   "mimetype": "text/x-python",
   "name": "python",
   "nbconvert_exporter": "python",
   "pygments_lexer": "ipython3",
   "version": "3.10.4"
  }
 },
 "nbformat": 4,
 "nbformat_minor": 5
}
